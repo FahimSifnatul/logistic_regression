{
 "cells": [
  {
   "cell_type": "code",
   "execution_count": 2,
   "metadata": {},
   "outputs": [
    {
     "name": "stdout",
     "output_type": "stream",
     "text": [
      "Sum of Square Errors =  0.05102236700699482\n",
      "logistic regression predicted outputs (y) = \n",
      " [0.15822475 0.87928324 0.87928324 0.0947495  0.87928324 0.0947495\n",
      " 0.0947495  0.92025259]\n",
      "Original output (Y) = \n",
      " [0 1 1 0 1 0 0 1]\n",
      "Predicted Output after thresholded (1 if value >=0.5 else 0) = \n",
      "\n",
      "[0 1 1 0 1 0 0 1]\n"
     ]
    },
    {
     "data": {
      "image/png": "[encoded data removed]",
      "text/plain": [
       "<Figure size 432x288 with 1 Axes>"
      ]
     },
     "metadata": {
      "needs_background": "light"
     },
     "output_type": "display_data"
    }
   ],
   "source": [
    "import numpy as np\n",
    "import matplotlib.pyplot as plt\n",
    "\n",
    "X1 = np.array([[0, 0, 0, 0, 1, 1, 1, 1]])\n",
    "\n",
    "X2 = np.array([[0, 0, 1, 1, 0, 0, 1, 1]])\n",
    "\n",
    "X3 = np.array([[0, 1, 0, 1, 0, 1, 0, 1]])\n",
    "\n",
    "Y  = np.array([[0, 1, 1, 0, 1, 0, 0, 1]])\n",
    "\n",
    "dataset_len = Y.size\n",
    "nety  = np.zeros((1, dataset_len))\n",
    "y     = np.zeros((1, dataset_len)) \n",
    "a     = np.zeros((1, 1))\n",
    "b     = np.zeros((1, 1))\n",
    "c     = np.zeros((1, 1))\n",
    "d     = np.zeros((1, 1))\n",
    "se    = np.zeros((1, dataset_len))\n",
    "de    = np.zeros((1, dataset_len))\n",
    "epoch = 50000\n",
    "n     = .1 # learning rate\n",
    "it   = []\n",
    "cost = []\n",
    "\n",
    "def sig(y):\n",
    "    return 1/(1+np.exp(-y))\n",
    "\n",
    "def dsig(y):\n",
    "    return y * (1-y)\n",
    "\n",
    "def feed_forward():\n",
    "    global X1, X2, X3, nety, y, a, b, c, d, se, de\n",
    "    nety = a * (X1+X2+X3)**3 + b * (X1+X2+X3)**2 + c * (X1+X2+X3) + d\n",
    "    y    = sig(nety)\n",
    "    se   = 0.5 * (y - Y)**2\n",
    "    cost.append(np.sum(se)/len(se))\n",
    "    de   = (y - Y)\n",
    "    return 0\n",
    "\n",
    "def backpropagation():\n",
    "    global X1, X2, X3, y, a, b, c, d, de, n\n",
    "\n",
    "    #backpropagation\n",
    "    #gradient descent calculation\n",
    "    grada = np.zeros((1, 1))\n",
    "    grada = np.sum(de * y*(1-y) * (X1+X2+X3)**3) / dataset_len\n",
    "\n",
    "    gradb = np.zeros((1, 1))\n",
    "    gradb = np.sum(de * y*(1-y) * (X1+X2+X3)**2) / dataset_len\n",
    "\n",
    "    gradc = np.zeros((1, 1))\n",
    "    gradc = np.sum(de * y*(1-y) * (X1+X2+X3)) / dataset_len\n",
    "\n",
    "    gradd = np.zeros((1, 1))\n",
    "    gradd = np.sum(de * y*(1-y)) / dataset_len\n",
    "\n",
    "    #update\n",
    "    a -= n * grada\n",
    "    b -= n * gradb\n",
    "    c -= n * gradc\n",
    "    d -= n * gradd\n",
    "\n",
    "def main():\n",
    "    for i in range(epoch):\n",
    "        feed_forward()\n",
    "        it.append(i)\n",
    "        backpropagation()\n",
    "\n",
    "main()\n",
    "\n",
    "print('Sum of Square Errors = ', np.sum(se)/len(se))\n",
    "print('logistic regression predicted outputs (y) = \\n', *y)\n",
    "print('Original output (Y) = \\n', *Y)\n",
    "print(\"Predicted Output after thresholded (1 if value >=0.5 else 0) = \\n\",)\n",
    "print(*np.where(y >= 0.5, 1, 0))\n",
    "\n",
    "#graph plot\n",
    "plt.figure(1)\n",
    "plt.plot(it, cost)\n",
    "plt.grid(True)\n",
    "plt.title('Simple Logistic Regression of XOR')\n",
    "plt.xlabel('Iterations')\n",
    "plt.ylabel('Cost (Loss)')\n",
    "plt.show()"
   ]
  },
  {
   "cell_type": "code",
   "execution_count": null,
   "metadata": {},
   "outputs": [],
   "source": []
  }
 ],
 "metadata": {
  "kernelspec": {
   "display_name": "Python 3",
   "language": "python",
   "name": "python3"
  },
  "language_info": {
   "codemirror_mode": {
    "name": "ipython",
    "version": 3
   },
   "file_extension": ".py",
   "mimetype": "text/x-python",
   "name": "python",
   "nbconvert_exporter": "python",
   "pygments_lexer": "ipython3",
   "version": "3.7.4"
  }
 },
 "nbformat": 4,
 "nbformat_minor": 2
}
